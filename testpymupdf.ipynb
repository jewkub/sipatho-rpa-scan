{
 "cells": [
  {
   "cell_type": "code",
   "execution_count": 34,
   "metadata": {},
   "outputs": [],
   "source": [
    "import fitz\n",
    "import easyocr\n",
    "from pdf2image import convert_from_path\n",
    "import ocrmypdf\n",
    "import pytesseract"
   ]
  },
  {
   "cell_type": "code",
   "execution_count": 57,
   "metadata": {},
   "outputs": [
    {
     "name": "stderr",
     "output_type": "stream",
     "text": [
      "Neither CUDA nor MPS are available - defaulting to CPU. Note: This module is much faster with a GPU.\n"
     ]
    }
   ],
   "source": [
    "# For checking whether the page is empty or not.\n",
    "reader = easyocr.Reader(['en'])\n",
    "def check_page(page):\n",
    "    text = page.get_text()\n",
    "    # print(text)\n",
    "    return len(text.strip()) == 0"
   ]
  },
  {
   "cell_type": "code",
   "execution_count": 58,
   "metadata": {},
   "outputs": [
    {
     "name": "stdout",
     "output_type": "stream",
     "text": [
      "Page No: 0\n",
      "Success to read\n",
      "Page No: 1\n",
      "Success to read\n",
      "Page No: 2\n",
      "Success to read\n",
      "Page No: 3\n",
      "Success to read\n",
      "Page No: 4\n",
      "Success to read\n",
      "Page No: 5\n",
      "Success to read\n"
     ]
    }
   ],
   "source": [
    "inputfile_path = r\"D:\\git\\sipatho-rpa-scan\\rename\\raw\\a2.pdf\"\n",
    "outputfile_path = r\"D:\\git\\sipatho-rpa-scan\\rename\\test.pdf\"\n",
    "temp_file = r'.\\temp_pdf.png'\n",
    "input_pdf = fitz.open(inputfile_path)\n",
    "output_pdf = fitz.open()\n",
    "images = convert_from_path(inputfile_path, fmt='png',poppler_path=r\"C:\\Users\\jewna\\Downloads\\Release-24.02.0-0\\poppler-24.02.0\\Library\\bin\")\n",
    "\n",
    "found = False\n",
    "for pgno in range(input_pdf.page_count):\n",
    "  # print(pgno)\n",
    "  page = input_pdf[pgno]\n",
    "  if not check_page(page):\n",
    "    output_pdf.insert_pdf(input_pdf,from_page=pgno,to_page = pgno)\n",
    "    found = True\n",
    "\n",
    "  else:\n",
    "    print('Page No:',pgno)\n",
    "    # pix = page.get_pixmap()\n",
    "    # pix.save(temp_file)\n",
    "    img_page = images[pgno]\n",
    "    img_page.save(temp_file)\n",
    "    result = reader.readtext(temp_file)\n",
    "    print('Success to read')\n",
    "    if len(result) > 0:\n",
    "      output_pdf.insert_pdf(input_pdf,from_page=pgno,to_page = pgno)\n",
    "\n",
    "output_pdf.save(outputfile_path)\n",
    "input_pdf.close()\n",
    "output_pdf.close()"
   ]
  },
  {
   "cell_type": "code",
   "execution_count": 49,
   "metadata": {},
   "outputs": [
    {
     "name": "stdout",
     "output_type": "stream",
     "text": [
      "<PIL.Image.Image image mode=L size=1652x2338 at 0x2F180918950>\n"
     ]
    },
    {
     "ename": "ValueError",
     "evalue": "Invalid input type. Supporting format = string(file path or url), bytes, numpy array",
     "output_type": "error",
     "traceback": [
      "\u001b[1;31m---------------------------------------------------------------------------\u001b[0m",
      "\u001b[1;31mValueError\u001b[0m                                Traceback (most recent call last)",
      "Cell \u001b[1;32mIn[49], line 5\u001b[0m\n\u001b[0;32m      3\u001b[0m img \u001b[38;5;241m=\u001b[39m Image\u001b[38;5;241m.\u001b[39mopen(\u001b[38;5;124m'\u001b[39m\u001b[38;5;124mD:\u001b[39m\u001b[38;5;124m\\\u001b[39m\u001b[38;5;124mgit\u001b[39m\u001b[38;5;124m\\\u001b[39m\u001b[38;5;124msipatho-rpa-scan\u001b[39m\u001b[38;5;124m\\\u001b[39m\u001b[38;5;124mimg0.jpg\u001b[39m\u001b[38;5;124m'\u001b[39m)\u001b[38;5;241m.\u001b[39mconvert(\u001b[38;5;124m'\u001b[39m\u001b[38;5;124mL\u001b[39m\u001b[38;5;124m'\u001b[39m)\n\u001b[0;32m      4\u001b[0m \u001b[38;5;28mprint\u001b[39m(img)\n\u001b[1;32m----> 5\u001b[0m result \u001b[38;5;241m=\u001b[39m \u001b[43mreader\u001b[49m\u001b[38;5;241;43m.\u001b[39;49m\u001b[43mreadtext\u001b[49m\u001b[43m(\u001b[49m\u001b[43mimg\u001b[49m\u001b[43m)\u001b[49m\n\u001b[0;32m      6\u001b[0m \u001b[38;5;28;01mfor\u001b[39;00m (bbox, text, prob) \u001b[38;5;129;01min\u001b[39;00m result:\n\u001b[0;32m      7\u001b[0m   \u001b[38;5;28mprint\u001b[39m(\u001b[38;5;124mf\u001b[39m\u001b[38;5;124m'\u001b[39m\u001b[38;5;132;01m{\u001b[39;00mtext\u001b[38;5;132;01m}\u001b[39;00m\u001b[38;5;124m'\u001b[39m)\n",
      "File \u001b[1;32mc:\\Users\\jewna\\AppData\\Local\\Programs\\Python\\Python311\\Lib\\site-packages\\easyocr\\easyocr.py:454\u001b[0m, in \u001b[0;36mReader.readtext\u001b[1;34m(self, image, decoder, beamWidth, batch_size, workers, allowlist, blocklist, detail, rotation_info, paragraph, min_size, contrast_ths, adjust_contrast, filter_ths, text_threshold, low_text, link_threshold, canvas_size, mag_ratio, slope_ths, ycenter_ths, height_ths, width_ths, y_ths, x_ths, add_margin, threshold, bbox_min_score, bbox_min_size, max_candidates, output_format)\u001b[0m\n\u001b[0;32m    440\u001b[0m \u001b[38;5;28;01mdef\u001b[39;00m \u001b[38;5;21mreadtext\u001b[39m(\u001b[38;5;28mself\u001b[39m, image, decoder \u001b[38;5;241m=\u001b[39m \u001b[38;5;124m'\u001b[39m\u001b[38;5;124mgreedy\u001b[39m\u001b[38;5;124m'\u001b[39m, beamWidth\u001b[38;5;241m=\u001b[39m \u001b[38;5;241m5\u001b[39m, batch_size \u001b[38;5;241m=\u001b[39m \u001b[38;5;241m1\u001b[39m,\\\n\u001b[0;32m    441\u001b[0m              workers \u001b[38;5;241m=\u001b[39m \u001b[38;5;241m0\u001b[39m, allowlist \u001b[38;5;241m=\u001b[39m \u001b[38;5;28;01mNone\u001b[39;00m, blocklist \u001b[38;5;241m=\u001b[39m \u001b[38;5;28;01mNone\u001b[39;00m, detail \u001b[38;5;241m=\u001b[39m \u001b[38;5;241m1\u001b[39m,\\\n\u001b[0;32m    442\u001b[0m              rotation_info \u001b[38;5;241m=\u001b[39m \u001b[38;5;28;01mNone\u001b[39;00m, paragraph \u001b[38;5;241m=\u001b[39m \u001b[38;5;28;01mFalse\u001b[39;00m, min_size \u001b[38;5;241m=\u001b[39m \u001b[38;5;241m20\u001b[39m,\\\n\u001b[1;32m   (...)\u001b[0m\n\u001b[0;32m    448\u001b[0m              threshold \u001b[38;5;241m=\u001b[39m \u001b[38;5;241m0.2\u001b[39m, bbox_min_score \u001b[38;5;241m=\u001b[39m \u001b[38;5;241m0.2\u001b[39m, bbox_min_size \u001b[38;5;241m=\u001b[39m \u001b[38;5;241m3\u001b[39m, max_candidates \u001b[38;5;241m=\u001b[39m \u001b[38;5;241m0\u001b[39m,\n\u001b[0;32m    449\u001b[0m              output_format\u001b[38;5;241m=\u001b[39m\u001b[38;5;124m'\u001b[39m\u001b[38;5;124mstandard\u001b[39m\u001b[38;5;124m'\u001b[39m):\n\u001b[0;32m    450\u001b[0m \u001b[38;5;250m    \u001b[39m\u001b[38;5;124;03m'''\u001b[39;00m\n\u001b[0;32m    451\u001b[0m \u001b[38;5;124;03m    Parameters:\u001b[39;00m\n\u001b[0;32m    452\u001b[0m \u001b[38;5;124;03m    image: file path or numpy-array or a byte stream object\u001b[39;00m\n\u001b[0;32m    453\u001b[0m \u001b[38;5;124;03m    '''\u001b[39;00m\n\u001b[1;32m--> 454\u001b[0m     img, img_cv_grey \u001b[38;5;241m=\u001b[39m \u001b[43mreformat_input\u001b[49m\u001b[43m(\u001b[49m\u001b[43mimage\u001b[49m\u001b[43m)\u001b[49m\n\u001b[0;32m    456\u001b[0m     horizontal_list, free_list \u001b[38;5;241m=\u001b[39m \u001b[38;5;28mself\u001b[39m\u001b[38;5;241m.\u001b[39mdetect(img, \n\u001b[0;32m    457\u001b[0m                                              min_size \u001b[38;5;241m=\u001b[39m min_size, text_threshold \u001b[38;5;241m=\u001b[39m text_threshold,\\\n\u001b[0;32m    458\u001b[0m                                              low_text \u001b[38;5;241m=\u001b[39m low_text, link_threshold \u001b[38;5;241m=\u001b[39m link_threshold,\\\n\u001b[1;32m   (...)\u001b[0m\n\u001b[0;32m    464\u001b[0m                                              bbox_min_size \u001b[38;5;241m=\u001b[39m bbox_min_size, max_candidates \u001b[38;5;241m=\u001b[39m max_candidates\n\u001b[0;32m    465\u001b[0m                                              )\n\u001b[0;32m    466\u001b[0m     \u001b[38;5;66;03m# get the 1st result from hor & free list as self.detect returns a list of depth 3\u001b[39;00m\n",
      "File \u001b[1;32mc:\\Users\\jewna\\AppData\\Local\\Programs\\Python\\Python311\\Lib\\site-packages\\easyocr\\utils.py:767\u001b[0m, in \u001b[0;36mreformat_input\u001b[1;34m(image)\u001b[0m\n\u001b[0;32m    765\u001b[0m     img_cv_grey \u001b[38;5;241m=\u001b[39m cv2\u001b[38;5;241m.\u001b[39mcvtColor(img, cv2\u001b[38;5;241m.\u001b[39mCOLOR_BGR2GRAY)\n\u001b[0;32m    766\u001b[0m \u001b[38;5;28;01melse\u001b[39;00m:\n\u001b[1;32m--> 767\u001b[0m     \u001b[38;5;28;01mraise\u001b[39;00m \u001b[38;5;167;01mValueError\u001b[39;00m(\u001b[38;5;124m'\u001b[39m\u001b[38;5;124mInvalid input type. Supporting format = string(file path or url), bytes, numpy array\u001b[39m\u001b[38;5;124m'\u001b[39m)\n\u001b[0;32m    769\u001b[0m \u001b[38;5;28;01mreturn\u001b[39;00m img, img_cv_grey\n",
      "\u001b[1;31mValueError\u001b[0m: Invalid input type. Supporting format = string(file path or url), bytes, numpy array"
     ]
    }
   ],
   "source": [
    "from PIL import Image\n",
    "import easyocr\n",
    "img = Image.open('D:\\git\\sipatho-rpa-scan\\img0.jpg').convert('L')\n",
    "print(img)\n",
    "result = reader.readtext(img)\n",
    "for (bbox, text, prob) in result:\n",
    "  print(f'{text}')"
   ]
  },
  {
   "cell_type": "code",
   "execution_count": 3,
   "metadata": {},
   "outputs": [
    {
     "data": {
      "text/plain": [
       "'img0'"
      ]
     },
     "execution_count": 3,
     "metadata": {},
     "output_type": "execute_result"
    }
   ],
   "source": [
    "import re\n",
    "str = r\"D:\\git\\sipatho-rpa-scan\\img0.jpg\"\n",
    "str.split(\"\\\\\")[-1].split('.')[0]\n",
    "# re.sub(\"^\\\\(.+\\\\)*(.+)\\.(.+)$\", \"\", r\"D:\\git\\sipatho-rpa-scan\\img0.jpg\")"
   ]
  }
 ],
 "metadata": {
  "kernelspec": {
   "display_name": "Python 3",
   "language": "python",
   "name": "python3"
  },
  "language_info": {
   "codemirror_mode": {
    "name": "ipython",
    "version": 3
   },
   "file_extension": ".py",
   "mimetype": "text/x-python",
   "name": "python",
   "nbconvert_exporter": "python",
   "pygments_lexer": "ipython3",
   "version": "3.11.7"
  }
 },
 "nbformat": 4,
 "nbformat_minor": 2
}
