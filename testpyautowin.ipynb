{
 "cells": [
  {
   "cell_type": "markdown",
   "metadata": {},
   "source": [
    "# Generate token"
   ]
  },
  {
   "cell_type": "code",
   "execution_count": 64,
   "metadata": {},
   "outputs": [],
   "source": [
    "from cryptography.fernet import Fernet\n",
    "import json"
   ]
  },
  {
   "cell_type": "code",
   "execution_count": 66,
   "metadata": {},
   "outputs": [],
   "source": [
    "def encrypt(message: bytes, key: bytes) -> bytes:\n",
    "  return Fernet(key).encrypt(message)\n",
    "\n",
    "def decrypt(token: bytes, key: bytes) -> bytes:\n",
    "  return Fernet(key).decrypt(token)\n",
    "\n",
    "def get_value(json_file):\n",
    "   try:\n",
    "       with open(json_file) as f:\n",
    "           data = json.load(f)\n",
    "           return data\n",
    "   except Exception as e:\n",
    "       print(\"Error: \", e)"
   ]
  },
  {
   "cell_type": "code",
   "execution_count": 9,
   "metadata": {},
   "outputs": [],
   "source": [
    "\n",
    "key = Fernet.generate_key()"
   ]
  },
  {
   "cell_type": "code",
   "execution_count": 42,
   "metadata": {},
   "outputs": [
    {
     "name": "stdout",
     "output_type": "stream",
     "text": [
      "ylgHHh_vMxrVJIenf-lyXCZUStPfNbQKYAcKJriQcJM=\n"
     ]
    }
   ],
   "source": [
    "\n",
    "\n",
    "print(key.decode())\n"
   ]
  },
  {
   "cell_type": "code",
   "execution_count": null,
   "metadata": {},
   "outputs": [],
   "source": [
    "username = encrypt(\"p15894\".encode(), key)\n",
    "username\n"
   ]
  },
  {
   "cell_type": "code",
   "execution_count": null,
   "metadata": {},
   "outputs": [],
   "source": [
    "decrypt(username, key).decode()"
   ]
  },
  {
   "cell_type": "code",
   "execution_count": null,
   "metadata": {},
   "outputs": [],
   "source": [
    "password = encrypt(\"2525\".encode(), key)\n",
    "password"
   ]
  },
  {
   "cell_type": "code",
   "execution_count": null,
   "metadata": {},
   "outputs": [],
   "source": [
    "decrypt(password, key).decode()"
   ]
  },
  {
   "cell_type": "code",
   "execution_count": 67,
   "metadata": {},
   "outputs": [
    {
     "data": {
      "text/plain": [
       "{'user': 'gAAAAABl-TN--InjSIDr-uwuHSHt1CCqUYjMRPtVsHhP6b9BT4ISRDH0lyPXN5-3GWMcM413m2Yok6vt-iiG1WqhVx8APhaDtA==',\n",
       " 'password': 'gAAAAABl-TQrr2r5r11i8Z5h9gygCPy1pz3jiiASJ6qUv45f9O0jvzrt04n01FWpgYfySLGQG97u-Tb7dnrBPYTQ5BdpU-HFaQ=='}"
      ]
     },
     "execution_count": 67,
     "metadata": {},
     "output_type": "execute_result"
    }
   ],
   "source": [
    "config = get_value(\"config.json\")\n",
    "config[\"login\"]"
   ]
  },
  {
   "cell_type": "markdown",
   "metadata": {},
   "source": [
    "# Code"
   ]
  },
  {
   "cell_type": "code",
   "execution_count": 69,
   "metadata": {},
   "outputs": [],
   "source": [
    "from pywinauto import application, Desktop"
   ]
  },
  {
   "cell_type": "markdown",
   "metadata": {},
   "source": []
  },
  {
   "cell_type": "code",
   "execution_count": 122,
   "metadata": {},
   "outputs": [
    {
     "ename": "ElementNotFoundError",
     "evalue": "{'title': 'Untitled - Notepad', 'backend': 'uia', 'process': 22052}",
     "output_type": "error",
     "traceback": [
      "\u001b[1;31m---------------------------------------------------------------------------\u001b[0m",
      "\u001b[1;31mTimeoutError\u001b[0m                              Traceback (most recent call last)",
      "File \u001b[1;32mc:\\Users\\jewna\\AppData\\Local\\Programs\\Python\\Python311\\Lib\\site-packages\\pywinauto\\application.py:250\u001b[0m, in \u001b[0;36mWindowSpecification.__resolve_control\u001b[1;34m(self, criteria, timeout, retry_interval)\u001b[0m\n\u001b[0;32m    249\u001b[0m \u001b[38;5;28;01mtry\u001b[39;00m:\n\u001b[1;32m--> 250\u001b[0m     ctrl \u001b[38;5;241m=\u001b[39m \u001b[43mwait_until_passes\u001b[49m\u001b[43m(\u001b[49m\n\u001b[0;32m    251\u001b[0m \u001b[43m        \u001b[49m\u001b[43mtimeout\u001b[49m\u001b[43m,\u001b[49m\n\u001b[0;32m    252\u001b[0m \u001b[43m        \u001b[49m\u001b[43mretry_interval\u001b[49m\u001b[43m,\u001b[49m\n\u001b[0;32m    253\u001b[0m \u001b[43m        \u001b[49m\u001b[38;5;28;43mself\u001b[39;49m\u001b[38;5;241;43m.\u001b[39;49m\u001b[43m__get_ctrl\u001b[49m\u001b[43m,\u001b[49m\n\u001b[0;32m    254\u001b[0m \u001b[43m        \u001b[49m\u001b[43m(\u001b[49m\u001b[43mfindwindows\u001b[49m\u001b[38;5;241;43m.\u001b[39;49m\u001b[43mElementNotFoundError\u001b[49m\u001b[43m,\u001b[49m\n\u001b[0;32m    255\u001b[0m \u001b[43m         \u001b[49m\u001b[43mfindbestmatch\u001b[49m\u001b[38;5;241;43m.\u001b[39;49m\u001b[43mMatchError\u001b[49m\u001b[43m,\u001b[49m\n\u001b[0;32m    256\u001b[0m \u001b[43m         \u001b[49m\u001b[43mcontrols\u001b[49m\u001b[38;5;241;43m.\u001b[39;49m\u001b[43mInvalidWindowHandle\u001b[49m\u001b[43m,\u001b[49m\n\u001b[0;32m    257\u001b[0m \u001b[43m         \u001b[49m\u001b[43mcontrols\u001b[49m\u001b[38;5;241;43m.\u001b[39;49m\u001b[43mInvalidElement\u001b[49m\u001b[43m)\u001b[49m\u001b[43m,\u001b[49m\n\u001b[0;32m    258\u001b[0m \u001b[43m        \u001b[49m\u001b[43mcriteria\u001b[49m\u001b[43m)\u001b[49m\n\u001b[0;32m    260\u001b[0m \u001b[38;5;28;01mexcept\u001b[39;00m \u001b[38;5;167;01mTimeoutError\u001b[39;00m \u001b[38;5;28;01mas\u001b[39;00m e:\n",
      "File \u001b[1;32mc:\\Users\\jewna\\AppData\\Local\\Programs\\Python\\Python311\\Lib\\site-packages\\pywinauto\\timings.py:458\u001b[0m, in \u001b[0;36mwait_until_passes\u001b[1;34m(timeout, retry_interval, func, exceptions, *args, **kwargs)\u001b[0m\n\u001b[0;32m    457\u001b[0m             err\u001b[38;5;241m.\u001b[39moriginal_exception \u001b[38;5;241m=\u001b[39m e\n\u001b[1;32m--> 458\u001b[0m             \u001b[38;5;28;01mraise\u001b[39;00m err\n\u001b[0;32m    460\u001b[0m \u001b[38;5;66;03m# return the function value\u001b[39;00m\n",
      "\u001b[1;31mTimeoutError\u001b[0m: ",
      "\nDuring handling of the above exception, another exception occurred:\n",
      "\u001b[1;31mElementNotFoundError\u001b[0m                      Traceback (most recent call last)",
      "Cell \u001b[1;32mIn[122], line 5\u001b[0m\n\u001b[0;32m      3\u001b[0m notepad \u001b[38;5;241m=\u001b[39m app\u001b[38;5;241m.\u001b[39mUntitledNotepad\n\u001b[0;32m      4\u001b[0m \u001b[38;5;66;03m# notepad.print_ctrl_ids\u001b[39;00m\n\u001b[1;32m----> 5\u001b[0m notepad2 \u001b[38;5;241m=\u001b[39m \u001b[43mapp\u001b[49m\u001b[38;5;241;43m.\u001b[39;49m\u001b[43mwindow\u001b[49m\u001b[43m(\u001b[49m\u001b[43mtitle\u001b[49m\u001b[38;5;241;43m=\u001b[39;49m\u001b[38;5;124;43m\"\u001b[39;49m\u001b[38;5;124;43mUntitled - Notepad\u001b[39;49m\u001b[38;5;124;43m\"\u001b[39;49m\u001b[43m)\u001b[49m\u001b[38;5;241;43m.\u001b[39;49m\u001b[43mdump_tree\u001b[49m\u001b[43m(\u001b[49m\u001b[43m)\u001b[49m\n\u001b[0;32m      6\u001b[0m \u001b[38;5;66;03m# notepad2.dump_tree()\u001b[39;00m\n\u001b[0;32m      7\u001b[0m \u001b[38;5;66;03m# notepad2.print_ctrl_ids()\u001b[39;00m\n\u001b[0;32m      8\u001b[0m \u001b[38;5;66;03m# notepad.print_control_identifiers()\u001b[39;00m\n",
      "File \u001b[1;32mc:\\Users\\jewna\\AppData\\Local\\Programs\\Python\\Python311\\Lib\\site-packages\\pywinauto\\application.py:613\u001b[0m, in \u001b[0;36mWindowSpecification.print_control_identifiers\u001b[1;34m(self, depth, filename)\u001b[0m\n\u001b[0;32m    611\u001b[0m     depth \u001b[38;5;241m=\u001b[39m sys\u001b[38;5;241m.\u001b[39mmaxsize\n\u001b[0;32m    612\u001b[0m \u001b[38;5;66;03m# Wrap this control\u001b[39;00m\n\u001b[1;32m--> 613\u001b[0m this_ctrl \u001b[38;5;241m=\u001b[39m \u001b[38;5;28;43mself\u001b[39;49m\u001b[38;5;241;43m.\u001b[39;49m\u001b[43m__resolve_control\u001b[49m\u001b[43m(\u001b[49m\u001b[38;5;28;43mself\u001b[39;49m\u001b[38;5;241;43m.\u001b[39;49m\u001b[43mcriteria\u001b[49m\u001b[43m)\u001b[49m[\u001b[38;5;241m-\u001b[39m\u001b[38;5;241m1\u001b[39m]\n\u001b[0;32m    615\u001b[0m \u001b[38;5;66;03m# Create a list of this control and all its descendants\u001b[39;00m\n\u001b[0;32m    616\u001b[0m all_ctrls \u001b[38;5;241m=\u001b[39m [this_ctrl, ] \u001b[38;5;241m+\u001b[39m this_ctrl\u001b[38;5;241m.\u001b[39mdescendants()\n",
      "File \u001b[1;32mc:\\Users\\jewna\\AppData\\Local\\Programs\\Python\\Python311\\Lib\\site-packages\\pywinauto\\application.py:261\u001b[0m, in \u001b[0;36mWindowSpecification.__resolve_control\u001b[1;34m(self, criteria, timeout, retry_interval)\u001b[0m\n\u001b[0;32m    250\u001b[0m     ctrl \u001b[38;5;241m=\u001b[39m wait_until_passes(\n\u001b[0;32m    251\u001b[0m         timeout,\n\u001b[0;32m    252\u001b[0m         retry_interval,\n\u001b[1;32m   (...)\u001b[0m\n\u001b[0;32m    257\u001b[0m          controls\u001b[38;5;241m.\u001b[39mInvalidElement),\n\u001b[0;32m    258\u001b[0m         criteria)\n\u001b[0;32m    260\u001b[0m \u001b[38;5;28;01mexcept\u001b[39;00m \u001b[38;5;167;01mTimeoutError\u001b[39;00m \u001b[38;5;28;01mas\u001b[39;00m e:\n\u001b[1;32m--> 261\u001b[0m     \u001b[38;5;28;01mraise\u001b[39;00m e\u001b[38;5;241m.\u001b[39moriginal_exception\n\u001b[0;32m    263\u001b[0m \u001b[38;5;28;01mreturn\u001b[39;00m ctrl\n",
      "File \u001b[1;32mc:\\Users\\jewna\\AppData\\Local\\Programs\\Python\\Python311\\Lib\\site-packages\\pywinauto\\timings.py:436\u001b[0m, in \u001b[0;36mwait_until_passes\u001b[1;34m(timeout, retry_interval, func, exceptions, *args, **kwargs)\u001b[0m\n\u001b[0;32m    433\u001b[0m \u001b[38;5;28;01mwhile\u001b[39;00m \u001b[38;5;28;01mTrue\u001b[39;00m:\n\u001b[0;32m    434\u001b[0m     \u001b[38;5;28;01mtry\u001b[39;00m:\n\u001b[0;32m    435\u001b[0m         \u001b[38;5;66;03m# Call the function with any arguments\u001b[39;00m\n\u001b[1;32m--> 436\u001b[0m         func_val \u001b[38;5;241m=\u001b[39m \u001b[43mfunc\u001b[49m\u001b[43m(\u001b[49m\u001b[38;5;241;43m*\u001b[39;49m\u001b[43margs\u001b[49m\u001b[43m,\u001b[49m\u001b[43m \u001b[49m\u001b[38;5;241;43m*\u001b[39;49m\u001b[38;5;241;43m*\u001b[39;49m\u001b[43mkwargs\u001b[49m\u001b[43m)\u001b[49m\n\u001b[0;32m    438\u001b[0m         \u001b[38;5;66;03m# if no exception is raised then we are finished\u001b[39;00m\n\u001b[0;32m    439\u001b[0m         \u001b[38;5;28;01mbreak\u001b[39;00m\n",
      "File \u001b[1;32mc:\\Users\\jewna\\AppData\\Local\\Programs\\Python\\Python311\\Lib\\site-packages\\pywinauto\\application.py:203\u001b[0m, in \u001b[0;36mWindowSpecification.__get_ctrl\u001b[1;34m(self, criteria_)\u001b[0m\n\u001b[0;32m    201\u001b[0m     criteria[\u001b[38;5;241m0\u001b[39m][\u001b[38;5;124m'\u001b[39m\u001b[38;5;124mprocess\u001b[39m\u001b[38;5;124m'\u001b[39m] \u001b[38;5;241m=\u001b[39m \u001b[38;5;28mself\u001b[39m\u001b[38;5;241m.\u001b[39mapp\u001b[38;5;241m.\u001b[39mprocess\n\u001b[0;32m    202\u001b[0m     \u001b[38;5;28;01mdel\u001b[39;00m criteria[\u001b[38;5;241m0\u001b[39m][\u001b[38;5;124m'\u001b[39m\u001b[38;5;124mapp\u001b[39m\u001b[38;5;124m'\u001b[39m]\n\u001b[1;32m--> 203\u001b[0m dialog \u001b[38;5;241m=\u001b[39m \u001b[38;5;28mself\u001b[39m\u001b[38;5;241m.\u001b[39mbackend\u001b[38;5;241m.\u001b[39mgeneric_wrapper_class(\u001b[43mfindwindows\u001b[49m\u001b[38;5;241;43m.\u001b[39;49m\u001b[43mfind_element\u001b[49m\u001b[43m(\u001b[49m\u001b[38;5;241;43m*\u001b[39;49m\u001b[38;5;241;43m*\u001b[39;49m\u001b[43mcriteria\u001b[49m\u001b[43m[\u001b[49m\u001b[38;5;241;43m0\u001b[39;49m\u001b[43m]\u001b[49m\u001b[43m)\u001b[49m)\n\u001b[0;32m    205\u001b[0m ctrls \u001b[38;5;241m=\u001b[39m []\n\u001b[0;32m    206\u001b[0m \u001b[38;5;66;03m# if there is only criteria for a dialog then return it\u001b[39;00m\n",
      "File \u001b[1;32mc:\\Users\\jewna\\AppData\\Local\\Programs\\Python\\Python311\\Lib\\site-packages\\pywinauto\\findwindows.py:87\u001b[0m, in \u001b[0;36mfind_element\u001b[1;34m(**kwargs)\u001b[0m\n\u001b[0;32m     84\u001b[0m elements \u001b[38;5;241m=\u001b[39m find_elements(\u001b[38;5;241m*\u001b[39m\u001b[38;5;241m*\u001b[39mkwargs)\n\u001b[0;32m     86\u001b[0m \u001b[38;5;28;01mif\u001b[39;00m \u001b[38;5;129;01mnot\u001b[39;00m elements:\n\u001b[1;32m---> 87\u001b[0m     \u001b[38;5;28;01mraise\u001b[39;00m ElementNotFoundError(kwargs)\n\u001b[0;32m     89\u001b[0m \u001b[38;5;28;01mif\u001b[39;00m \u001b[38;5;28mlen\u001b[39m(elements) \u001b[38;5;241m>\u001b[39m \u001b[38;5;241m1\u001b[39m:\n\u001b[0;32m     90\u001b[0m     exception \u001b[38;5;241m=\u001b[39m ElementAmbiguousError(\n\u001b[0;32m     91\u001b[0m         \u001b[38;5;124m\"\u001b[39m\u001b[38;5;124mThere are \u001b[39m\u001b[38;5;132;01m{0}\u001b[39;00m\u001b[38;5;124m elements that match the criteria \u001b[39m\u001b[38;5;132;01m{1}\u001b[39;00m\u001b[38;5;124m\"\u001b[39m\u001b[38;5;241m.\u001b[39mformat(\n\u001b[0;32m     92\u001b[0m             \u001b[38;5;28mlen\u001b[39m(elements),\n\u001b[0;32m     93\u001b[0m             six\u001b[38;5;241m.\u001b[39mtext_type(kwargs),\n\u001b[0;32m     94\u001b[0m         )\n\u001b[0;32m     95\u001b[0m     )\n",
      "\u001b[1;31mElementNotFoundError\u001b[0m: {'title': 'Untitled - Notepad', 'backend': 'uia', 'process': 22052}"
     ]
    }
   ],
   "source": [
    "app = application.Application(backend=\"uia\")\n",
    "app.start(r\"C:\\Windows\\System32\\notepad.exe\")\n",
    "notepad = app.UntitledNotepad\n",
    "# notepad.print_ctrl_ids\n",
    "notepad2 = app.window(title=\"Untitled - Notepad\")\n",
    "# notepad2.dump_tree()\n",
    "# notepad2.print_ctrl_ids()\n",
    "# notepad.print_control_identifiers()\n"
   ]
  },
  {
   "cell_type": "code",
   "execution_count": 105,
   "metadata": {},
   "outputs": [
    {
     "name": "stdout",
     "output_type": "stream",
     "text": [
      "Taskbar\n",
      "● testpyautowin.ipynb - Untitled (Workspace) - Visual Studio Code\n",
      "Untitled - Notepad\n",
      "python 3.x - Unable to use print_control_identifiers() for my desktop application in pywinauto - Stack Overflow — Mozilla Firefox\n",
      "Untitled - Notepad\n",
      "System32\n",
      "Settings\n",
      "Spotify Premium\n",
      "LINE\n",
      "Spotify\n",
      "Command Prompt\n",
      "rename\n",
      "image\n",
      "Programs\n",
      "Program Manager\n"
     ]
    }
   ],
   "source": [
    "from pywinauto import Desktop\n",
    "import re\n",
    "windows = Desktop(backend=\"uia\").windows()\n",
    "for window in windows:\n",
    "    print(window.window_text())\n",
    "    if re.search('Excel',window.window_text()):\n",
    "        window.close()"
   ]
  }
 ],
 "metadata": {
  "kernelspec": {
   "display_name": "Python 3",
   "language": "python",
   "name": "python3"
  },
  "language_info": {
   "codemirror_mode": {
    "name": "ipython",
    "version": 3
   },
   "file_extension": ".py",
   "mimetype": "text/x-python",
   "name": "python",
   "nbconvert_exporter": "python",
   "pygments_lexer": "ipython3",
   "version": "3.11.7"
  }
 },
 "nbformat": 4,
 "nbformat_minor": 2
}
