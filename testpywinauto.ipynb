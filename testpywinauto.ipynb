{
 "cells": [
  {
   "cell_type": "markdown",
   "metadata": {},
   "source": [
    "# Generate token"
   ]
  },
  {
   "cell_type": "code",
   "execution_count": 64,
   "metadata": {},
   "outputs": [],
   "source": [
    "from cryptography.fernet import Fernet\n",
    "import json"
   ]
  },
  {
   "cell_type": "code",
   "execution_count": 66,
   "metadata": {},
   "outputs": [],
   "source": [
    "def encrypt(message: bytes, key: bytes) -> bytes:\n",
    "  return Fernet(key).encrypt(message)\n",
    "\n",
    "def decrypt(token: bytes, key: bytes) -> bytes:\n",
    "  return Fernet(key).decrypt(token)\n",
    "\n",
    "def get_value(json_file):\n",
    "   try:\n",
    "       with open(json_file) as f:\n",
    "           data = json.load(f)\n",
    "           return data\n",
    "   except Exception as e:\n",
    "       print(\"Error: \", e)"
   ]
  },
  {
   "cell_type": "code",
   "execution_count": 9,
   "metadata": {},
   "outputs": [],
   "source": [
    "\n",
    "key = Fernet.generate_key()"
   ]
  },
  {
   "cell_type": "code",
   "execution_count": 42,
   "metadata": {},
   "outputs": [
    {
     "name": "stdout",
     "output_type": "stream",
     "text": [
      "ylgHHh_vMxrVJIenf-lyXCZUStPfNbQKYAcKJriQcJM=\n"
     ]
    }
   ],
   "source": [
    "\n",
    "\n",
    "print(key.decode())\n"
   ]
  },
  {
   "cell_type": "code",
   "execution_count": null,
   "metadata": {},
   "outputs": [],
   "source": [
    "username = encrypt(\"p15894\".encode(), key)\n",
    "username\n"
   ]
  },
  {
   "cell_type": "code",
   "execution_count": null,
   "metadata": {},
   "outputs": [],
   "source": [
    "decrypt(username, key).decode()"
   ]
  },
  {
   "cell_type": "code",
   "execution_count": null,
   "metadata": {},
   "outputs": [],
   "source": [
    "password = encrypt(\"2525\".encode(), key)\n",
    "password"
   ]
  },
  {
   "cell_type": "code",
   "execution_count": null,
   "metadata": {},
   "outputs": [],
   "source": [
    "decrypt(password, key).decode()"
   ]
  },
  {
   "cell_type": "code",
   "execution_count": 67,
   "metadata": {},
   "outputs": [
    {
     "data": {
      "text/plain": [
       "{'user': 'gAAAAABl-TN--InjSIDr-uwuHSHt1CCqUYjMRPtVsHhP6b9BT4ISRDH0lyPXN5-3GWMcM413m2Yok6vt-iiG1WqhVx8APhaDtA==',\n",
       " 'password': 'gAAAAABl-TQrr2r5r11i8Z5h9gygCPy1pz3jiiASJ6qUv45f9O0jvzrt04n01FWpgYfySLGQG97u-Tb7dnrBPYTQ5BdpU-HFaQ=='}"
      ]
     },
     "execution_count": 67,
     "metadata": {},
     "output_type": "execute_result"
    }
   ],
   "source": [
    "config = get_value(\"config.json\")\n",
    "config[\"login\"]"
   ]
  },
  {
   "cell_type": "markdown",
   "metadata": {},
   "source": [
    "# Code"
   ]
  },
  {
   "cell_type": "code",
   "execution_count": 88,
   "metadata": {},
   "outputs": [],
   "source": [
    "from pywinauto import application\n",
    "app = application.Application(backend='uia')\n",
    "app.start(\"notepad.exe\")\n",
    "app.connect(path=\"notepad.exe\")\n",
    "# app.UntitledNotepad.exists()\n",
    "# print(app.UntitledNotepad.menu())\n",
    "#app.UntitledNotepad.draw_outline()\n",
    "\n",
    "# app.UntitledNotepad.TypeKeys(\"123\")\n",
    "#app.Notepad.menu_select(\"Edit -> Paste\")\n",
    "app.Notepad.child_window(title=\"Edit\", auto_id=\"Edit\", control_type=\"MenuItem\").select()\n",
    "app.Notepad.child_window(title=\"Paste\", control_type=\"MenuItem\").select()\n",
    "# app.Notepad.child_window(title=\"Edit\", auto_id=\"Edit\", control_type=\"MenuItem\").child_window(title=\"Paste\", control_type=\"MenuItem\")\n"
   ]
  },
  {
   "cell_type": "markdown",
   "metadata": {},
   "source": []
  },
  {
   "cell_type": "code",
   "execution_count": 67,
   "metadata": {},
   "outputs": [
    {
     "name": "stdout",
     "output_type": "stream",
     "text": [
      "Control Identifiers:\n",
      "\n",
      "Dialog - 'Untitled - Notepad'    (L105, T206, R1545, B934)\n",
      "['Dialog', 'Untitled - NotepadDialog', 'Untitled - Notepad']\n",
      "child_window(title=\"Untitled - Notepad\", control_type=\"Window\")\n",
      "   | \n",
      "   | Pane - ''    (L114, T318, R1536, B877)\n",
      "   | ['Pane', 'UntitledPane', 'Pane0', 'Pane1', 'UntitledPane0', 'UntitledPane1']\n",
      "   |    | \n",
      "   |    | Document - ''    (L114, T318, R1536, B877)\n",
      "   |    | ['Document', 'UntitledDocument']\n",
      "   | \n",
      "   | Pane - ''    (L174, T220, R461, B252)\n",
      "   | ['Pane2', 'UntitledPane2']\n",
      "   |    | \n",
      "   |    | TabControl - ''    (L174, T220, R605, B268)\n",
      "   |    | ['TabControl', 'UntitledTabControl', 'TabControlAdd New Tab']\n",
      "   |    | child_window(auto_id=\"Tabs\", control_type=\"Tab\")\n",
      "   |    |    | \n",
      "   |    |    | ListBox - ''    (L177, T220, R552, B268)\n",
      "   |    |    | ['ListBox', 'UntitledListBox']\n",
      "   |    |    | child_window(auto_id=\"TabListView\", control_type=\"List\")\n",
      "   |    |    |    | \n",
      "   |    |    |    | TabItem - 'Untitled. Unmodified.'    (L180, T220, R549, B268)\n",
      "   |    |    |    | ['Untitled. Unmodified.', 'TabItem', 'Untitled. Unmodified.TabItem']\n",
      "   |    |    |    | child_window(title=\"Untitled. Unmodified.\", control_type=\"TabItem\")\n",
      "   |    |    |    |    | \n",
      "   |    |    |    |    | Static - 'Untitled'    (L199, T232, R266, B255)\n",
      "   |    |    |    |    | ['Untitled', 'UntitledStatic', 'Static', 'Static0', 'Static1']\n",
      "   |    |    |    |    | child_window(title=\"Untitled\", control_type=\"Text\")\n",
      "   |    |    |    |    | \n",
      "   |    |    |    |    | Button - 'Close Tab'    (L488, T226, R536, B262)\n",
      "   |    |    |    |    | ['Button', 'Close Tab', 'Close TabButton', 'Button0', 'Button1']\n",
      "   |    |    |    |    | child_window(title=\"Close Tab\", auto_id=\"CloseButton\", control_type=\"Button\")\n",
      "   |    |    | \n",
      "   |    |    | Button - 'Add New Tab'    (L557, T227, R605, B263)\n",
      "   |    |    | ['Button2', 'Add New TabButton', 'Add New Tab']\n",
      "   |    |    | child_window(title=\"Add New Tab\", auto_id=\"AddButton\", control_type=\"Button\")\n",
      "   |    | \n",
      "   |    | Pane - 'Notepad automatically saves your progress. All your content will be available the next time you open Notepad.'    (L0, T0, R0, B0)\n",
      "   |    | ['Pane3', 'Notepad automatically saves your progress. All your content will be available the next time you open Notepad.Pane', 'Notepad automatically saves your progress. All your content will be available the next time you open Notepad.']\n",
      "   |    | child_window(title=\"Notepad automatically saves your progress. All your content will be available the next time you open Notepad.\", auto_id=\"TeachingTip\", control_type=\"Pane\")\n",
      "   | \n",
      "   | Pane - ''    (L114, T268, R1062, B301)\n",
      "   | ['Pane4', 'UntitledPane3']\n",
      "   |    | \n",
      "   |    | Menu - ''    (L114, T268, R353, B316)\n",
      "   |    | ['Menu', 'UntitledMenu', 'Menu0', 'Menu1']\n",
      "   |    | child_window(auto_id=\"MenuBar\", control_type=\"MenuBar\")\n",
      "   |    |    | \n",
      "   |    |    | MenuItem - 'File'    (L120, T268, R182, B316)\n",
      "   |    |    | ['MenuItem', 'File', 'FileMenuItem', 'MenuItem0', 'MenuItem1']\n",
      "   |    |    | child_window(title=\"File\", auto_id=\"File\", control_type=\"MenuItem\")\n",
      "   |    |    | \n",
      "   |    |    | MenuItem - 'Edit'    (L194, T268, R260, B316)\n",
      "   |    |    | ['MenuItem2', 'Edit', 'EditMenuItem']\n",
      "   |    |    | child_window(title=\"Edit\", auto_id=\"Edit\", control_type=\"MenuItem\")\n",
      "   |    |    | \n",
      "   |    |    | MenuItem - 'View'    (L272, T268, R347, B316)\n",
      "   |    |    | ['MenuItem3', 'ViewMenuItem', 'View']\n",
      "   |    |    | child_window(title=\"View\", auto_id=\"View\", control_type=\"MenuItem\")\n",
      "   |    | \n",
      "   |    | Button - 'Settings'    (L1479, T270, R1524, B315)\n",
      "   |    | ['Button3', 'Settings', 'SettingsButton']\n",
      "   |    | child_window(title=\"Settings\", auto_id=\"SettingsButton\", control_type=\"Button\")\n",
      "   | \n",
      "   | Pane - ''    (L114, T877, R1062, B909)\n",
      "   | ['Pane5', '  Ln 1, Col 1Pane']\n",
      "   |    | \n",
      "   |    | Static - '  Ln 1, Col 1'    (L138, T889, R226, B913)\n",
      "   |    | ['  Ln 1, Col 1Static', 'Static2', '  Ln 1, Col 1']\n",
      "   |    | child_window(title=\"  Ln 1, Col 1\", auto_id=\"ContentTextBlock\", control_type=\"Text\")\n",
      "   |    | \n",
      "   |    | Static - '0 characters'    (L284, T889, R382, B913)\n",
      "   |    | ['0 charactersStatic', '0 characters', 'Static3']\n",
      "   |    | child_window(title=\"0 characters\", auto_id=\"ContentTextBlock\", control_type=\"Text\")\n",
      "   |    | \n",
      "   |    | Static - ' 100%'    (L980, T889, R1027, B913)\n",
      "   |    | [' 100%', ' 100%Static', 'Static4']\n",
      "   |    | child_window(title=\" 100%\", auto_id=\"ContentTextBlock\", control_type=\"Text\")\n",
      "   |    | \n",
      "   |    | Static - ' Windows (CRLF)'    (L1082, T889, R1218, B913)\n",
      "   |    | [' Windows (CRLF)Static', 'Static5', ' Windows (CRLF)']\n",
      "   |    | child_window(title=\" Windows (CRLF)\", auto_id=\"ContentTextBlock\", control_type=\"Text\")\n",
      "   |    | \n",
      "   |    | Static - ' UTF-8'    (L1334, T889, R1388, B913)\n",
      "   |    | [' UTF-8', 'Static6', ' UTF-8Static']\n",
      "   |    | child_window(title=\" UTF-8\", auto_id=\"ContentTextBlock\", control_type=\"Text\")\n",
      "   | \n",
      "   | TitleBar - ''    (L0, T0, R0, B0)\n",
      "   | ['TitleBar']\n",
      "   |    | \n",
      "   |    | Menu - 'System'    (L116, T217, R149, B250)\n",
      "   |    | ['Menu2', 'SystemMenu', 'System', 'System0', 'System1']\n",
      "   |    | child_window(title=\"System\", auto_id=\"MenuBar\", control_type=\"MenuBar\")\n",
      "   |    |    | \n",
      "   |    |    | MenuItem - 'System'    (L116, T217, R149, B250)\n",
      "   |    |    | ['MenuItem4', 'System2', 'SystemMenuItem']\n",
      "   |    |    | child_window(title=\"System\", control_type=\"MenuItem\")\n",
      "   |    | \n",
      "   |    | Button - 'Minimize'    (L1325, T207, R1396, B251)\n",
      "   |    | ['Button4', 'MinimizeButton', 'Minimize']\n",
      "   |    | child_window(title=\"Minimize\", control_type=\"Button\")\n",
      "   |    | \n",
      "   |    | Button - 'Maximize'    (L1396, T207, R1466, B251)\n",
      "   |    | ['Button5', 'Maximize', 'MaximizeButton']\n",
      "   |    | child_window(title=\"Maximize\", control_type=\"Button\")\n",
      "   |    | \n",
      "   |    | Button - 'Close'    (L1466, T207, R1537, B251)\n",
      "   |    | ['Button6', 'CloseButton', 'Close']\n",
      "   |    | child_window(title=\"Close\", control_type=\"Button\")\n"
     ]
    }
   ],
   "source": [
    "app.Notepad.print_control_identifiers()"
   ]
  },
  {
   "cell_type": "code",
   "execution_count": 105,
   "metadata": {},
   "outputs": [
    {
     "name": "stdout",
     "output_type": "stream",
     "text": [
      "Taskbar\n",
      "● testpyautowin.ipynb - Untitled (Workspace) - Visual Studio Code\n",
      "Untitled - Notepad\n",
      "python 3.x - Unable to use print_control_identifiers() for my desktop application in pywinauto - Stack Overflow — Mozilla Firefox\n",
      "Untitled - Notepad\n",
      "System32\n",
      "Settings\n",
      "Spotify Premium\n",
      "LINE\n",
      "Spotify\n",
      "Command Prompt\n",
      "rename\n",
      "image\n",
      "Programs\n",
      "Program Manager\n"
     ]
    }
   ],
   "source": [
    "from pywinauto import Desktop\n",
    "import re\n",
    "windows = Desktop(backend=\"uia\").windows()\n",
    "for window in windows:\n",
    "    print(window.window_text())\n",
    "    if re.search('Excel',window.window_text()):\n",
    "        window.close()"
   ]
  }
 ],
 "metadata": {
  "kernelspec": {
   "display_name": "Python 3",
   "language": "python",
   "name": "python3"
  },
  "language_info": {
   "codemirror_mode": {
    "name": "ipython",
    "version": 3
   },
   "file_extension": ".py",
   "mimetype": "text/x-python",
   "name": "python",
   "nbconvert_exporter": "python",
   "pygments_lexer": "ipython3",
   "version": "3.11.7"
  }
 },
 "nbformat": 4,
 "nbformat_minor": 2
}
